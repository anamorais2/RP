{
 "cells": [
  {
   "cell_type": "markdown",
   "metadata": {},
   "source": [
    "# Requirements"
   ]
  },
  {
   "cell_type": "code",
   "execution_count": null,
   "metadata": {},
   "outputs": [],
   "source": [
    "%pip install pandas numpy matplotlib seaborn \n",
    "%pip install scikit-learn\n",
    "%pip install imbalanced-learn"
   ]
  },
  {
   "cell_type": "markdown",
   "metadata": {},
   "source": [
    "### Imports"
   ]
  },
  {
   "cell_type": "code",
   "execution_count": null,
   "metadata": {},
   "outputs": [],
   "source": [
    "import pandas as pd\n",
    "import numpy as np\n",
    "import matplotlib.pyplot as plt\n",
    "import seaborn as sns\n",
    "from sklearn.preprocessing import StandardScaler\n",
    "import plotly.express as px\n",
    "import plotly.graph_objects as go"
   ]
  },
  {
   "cell_type": "markdown",
   "metadata": {},
   "source": [
    "### Data\n",
    "\n",
    "- Definição das funções"
   ]
  },
  {
   "cell_type": "code",
   "execution_count": null,
   "metadata": {},
   "outputs": [],
   "source": [
    "DATA_PATH = 'PhiUSIIL_Phishing_URL_Dataset.csv'\n",
    "\n",
    "def load_data(data_path=DATA_PATH):\n",
    "    data = pd.read_csv(data_path)\n",
    "    \n",
    "    print(\"\\nInformações do Dataset:\")\n",
    "    display(data.info())\n",
    "    \n",
    "    print(\"\\nPrimeiras linhas do Dataset:\")\n",
    "    display(data.head(10))\n",
    "    \n",
    "    print(\"\\nEstatísticas do Dataset:\")\n",
    "    display(data.describe())\n",
    "    \n",
    "    print(\"\\nValores nulos no Dataset:\")\n",
    "    display(data.isnull().sum())\n",
    "    \n",
    "    # Modificar a a coluna label para target, para ser de fácil perceção ??\n",
    "    data.rename(columns={'label': 'target'}, inplace=True)\n",
    "    \n",
    "    # Remover colunas categóricas\n",
    "    categorical_columns = data.select_dtypes(include=['object']).columns\n",
    "    data.drop(categorical_columns, axis=1, inplace=True)\n",
    "    \n",
    "    #Vai apresentar o nome das colunas\n",
    "    #display(\"Columns: \" + \", \".join(list(map(str, data.columns))))\n",
    "    \n",
    "    return data"
   ]
  },
  {
   "cell_type": "code",
   "execution_count": null,
   "metadata": {},
   "outputs": [],
   "source": [
    "def separar_features_target(data):\n",
    "    X = data.copy()\n",
    "    X.drop('target', axis=1,inplace=True)\n",
    "    y = data['target'].copy()\n",
    "    \n",
    "    return X,y"
   ]
  },
  {
   "cell_type": "code",
   "execution_count": null,
   "metadata": {},
   "outputs": [],
   "source": [
    "def normalizar_features(X):\n",
    "    scaler = StandardScaler()\n",
    "    X = pd.DataFrame(scaler.fit_transform(X), columns=X.columns)\n",
    "    return X"
   ]
  },
  {
   "cell_type": "markdown",
   "metadata": {},
   "source": [
    "- Execução Pré - Processamento"
   ]
  },
  {
   "cell_type": "code",
   "execution_count": null,
   "metadata": {},
   "outputs": [],
   "source": [
    "data = load_data()\n",
    "X, y  = separar_features_target(data)\n",
    "X = normalizar_features(X)"
   ]
  },
  {
   "cell_type": "markdown",
   "metadata": {},
   "source": [
    "- Análise dos dados\n",
    "\n",
    "  - 1 - Legítimo | 0 - Phishing"
   ]
  },
  {
   "cell_type": "code",
   "execution_count": null,
   "metadata": {},
   "outputs": [],
   "source": [
    "def plot_class_distribution(data):\n",
    "    \n",
    "    values = data['target'].value_counts()\n",
    "    keys = ['Legítimo', 'Phishing']\n",
    "    \n",
    "    fig_pie = px.pie(names=keys, values=values, title='Distribuição das classes (%)')\n",
    "    \n",
    "    fig_bar = px.bar(x = keys, y=values, labels={'x': 'Classe', 'y': 'Contagem'},\n",
    "                     title=\"Distribuição das Classes (Phishing vs. Legítimo)\")\n",
    "    \n",
    "    fig_pie.show()\n",
    "    fig_bar.show()\n",
    "    \n",
    "    print(\"\\nPerc. of class 1 (Legítimo): \" + str(data['target'].sum() / data.shape[0] * 100) + \" %\")\n",
    "\n",
    "    #São muitos features, como simplificar aqui para verificar a matriz de correlação?\n",
    "    \n",
    "    # Com matplotlib\n",
    "    corr = data.corr()\n",
    "    \n",
    "    plt.figure()\n",
    "    sns.heatmap(corr, annot=True, vmin=-1.0, cmap='mako')\n",
    "    plt.title(\"Matriz de Correlação\")\n",
    "    plt.show()\n",
    "    \n",
    "    # Com plotly\n",
    "    fig_corr = px.imshow(corr, title=\"Matriz de Correlação\",\n",
    "                     color_continuous_scale= 'blues',\n",
    "                     labels={'x': 'Features', 'y': 'Features', 'color': 'Correlação'})\n",
    "    fig_corr.show()\n",
    "\n",
    "    \n",
    "    \n",
    "plot_class_distribution(data)"
   ]
  }
 ],
 "metadata": {
  "kernelspec": {
   "display_name": "base",
   "language": "python",
   "name": "python3"
  },
  "language_info": {
   "codemirror_mode": {
    "name": "ipython",
    "version": 3
   },
   "file_extension": ".py",
   "mimetype": "text/x-python",
   "name": "python",
   "nbconvert_exporter": "python",
   "pygments_lexer": "ipython3",
   "version": "3.12.3"
  }
 },
 "nbformat": 4,
 "nbformat_minor": 2
}

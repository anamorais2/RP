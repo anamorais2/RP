{
 "cells": [
  {
   "cell_type": "markdown",
   "metadata": {},
   "source": [
    "# Requirements"
   ]
  },
  {
   "cell_type": "code",
   "execution_count": null,
   "metadata": {},
   "outputs": [],
   "source": [
    "%pip install pandas numpy matplotlib seaborn \n",
    "%pip install scikit-learn\n",
    "%pip install imbalanced-learn"
   ]
  },
  {
   "cell_type": "markdown",
   "metadata": {},
   "source": [
    "### Imports"
   ]
  },
  {
   "cell_type": "code",
   "execution_count": null,
   "metadata": {},
   "outputs": [],
   "source": [
    "import pandas as pd\n",
    "import numpy as np\n",
    "import matplotlib.pyplot as plt\n",
    "import seaborn as sns\n",
    "from sklearn.preprocessing import StandardScaler\n",
    "import plotly.express as px\n",
    "import plotly.graph_objects as go\n",
    "from scipy.stats import kstest, kruskal, norm"
   ]
  },
  {
   "cell_type": "markdown",
   "metadata": {},
   "source": [
    "### Data\n",
    "\n",
    "- Definição das funções"
   ]
  },
  {
   "cell_type": "code",
   "execution_count": null,
   "metadata": {},
   "outputs": [],
   "source": [
    "DATA_PATH = 'PhiUSIIL_Phishing_URL_Dataset.csv'\n",
    "\n",
    "def load_data(data_path=DATA_PATH):\n",
    "    data = pd.read_csv(data_path)\n",
    "    \n",
    "    print(\"\\nInformações do Dataset:\")\n",
    "    display(data.info())\n",
    "    \n",
    "    print(\"\\nPrimeiras linhas do Dataset:\")\n",
    "    display(data.head(10))\n",
    "    \n",
    "    print(\"\\nEstatísticas do Dataset:\")\n",
    "    display(data.describe())\n",
    "    \n",
    "    print(\"\\nValores nulos no Dataset:\")\n",
    "    display(data.isnull().sum())\n",
    "    \n",
    "    # Modificar a a coluna label para target, para ser de fácil perceção ??\n",
    "    data.rename(columns={'label': 'target'}, inplace=True)\n",
    "    \n",
    "    # Remover colunas categóricas\n",
    "    categorical_columns = data.select_dtypes(include=['object']).columns\n",
    "    data.drop(categorical_columns, axis=1, inplace=True)\n",
    "    \n",
    "    #Vai apresentar o nome das colunas\n",
    "    #display(\"Columns: \" + \", \".join(list(map(str, data.columns))))\n",
    "    \n",
    "    return data"
   ]
  },
  {
   "cell_type": "code",
   "execution_count": null,
   "metadata": {},
   "outputs": [],
   "source": [
    "def separar_features_target(data):\n",
    "    X = data.copy()\n",
    "    X.drop('target', axis=1,inplace=True)\n",
    "    y = data['target'].copy()\n",
    "    \n",
    "    return X,y"
   ]
  },
  {
   "cell_type": "code",
   "execution_count": null,
   "metadata": {},
   "outputs": [],
   "source": [
    "def normalizar_features(X): # \n",
    "    scaler = StandardScaler() # É o mesmo que usar Z_score, pois a média é 0 e o desvio padrão é 1\n",
    "    X = pd.DataFrame(scaler.fit_transform(X), columns=X.columns)\n",
    "    return X"
   ]
  },
  {
   "cell_type": "markdown",
   "metadata": {},
   "source": [
    "- Execução Pré - Processamento"
   ]
  },
  {
   "cell_type": "code",
   "execution_count": null,
   "metadata": {},
   "outputs": [],
   "source": [
    "data = load_data()\n",
    "X, y  = separar_features_target(data)\n",
    "X = normalizar_features(X)"
   ]
  },
  {
   "cell_type": "markdown",
   "metadata": {},
   "source": [
    "- Análise dos dados\n",
    "\n",
    "  - 1 - Legítimo | 0 - Phishing"
   ]
  },
  {
   "cell_type": "code",
   "execution_count": null,
   "metadata": {},
   "outputs": [],
   "source": [
    "def plot_class_distribution(data):\n",
    "    \n",
    "    values = data['target'].value_counts()\n",
    "    keys = ['Legítimo', 'Phishing']\n",
    "    \n",
    "    fig_pie = px.pie(names=keys, values=values, title='Distribuição das classes (%)')\n",
    "    \n",
    "    fig_bar = px.bar(x = keys, y=values, labels={'x': 'Classe', 'y': 'Contagem'},\n",
    "                     title=\"Distribuição das Classes (Phishing vs. Legítimo)\")\n",
    "    \n",
    "    fig_pie.show()\n",
    "    fig_bar.show()\n",
    "    \n",
    "    print(\"\\nPerc. of class 1 (Legítimo): \" + str(data['target'].sum() / data.shape[0] * 100) + \" %\")\n",
    "\n",
    "    #São muitos features, como simplificar aqui para verificar a matriz de correlação?\n",
    "    \n",
    "    # Com matplotlib\n",
    "    corr = data.corr()\n",
    "    \n",
    "    plt.figure(figsize=(40, 40))\n",
    "    sns.heatmap(corr, annot=True, vmin=-1.0, cmap='mako')\n",
    "    plt.title(\"Matriz de Correlação\")\n",
    "    plt.show()\n",
    "    \n",
    "    ''' \n",
    "    # Com plotly\n",
    "    fig_corr = px.imshow(corr, title=\"Matriz de Correlação\",\n",
    "                     color_continuous_scale= 'blues',\n",
    "                     labels={'x': 'Features', 'y': 'Features', 'color': 'Correlação'})\n",
    "    fig_corr.show()\n",
    "    '''\n",
    "\n",
    "    \n",
    "    \n",
    "plot_class_distribution(data)"
   ]
  },
  {
   "cell_type": "markdown",
   "metadata": {},
   "source": [
    "### Kolmogorov-Smirnov Test\n",
    "\n",
    "1️⃣ Primeiro, usamos KS-Test no dataset completo para decidir se as features são normalmente distribuídas.\n",
    "\n",
    "2️⃣ Depois, usamos KS-Test separado por classe para verificar se as distribuições variam entre phishing e legítimo.\n",
    "\n",
    "3️⃣ Se houver uma diferença grande entre classes, a feature pode ser relevante para classificação."
   ]
  },
  {
   "cell_type": "code",
   "execution_count": null,
   "metadata": {},
   "outputs": [],
   "source": [
    "\n",
    "def KS_Test(X, y, features, alpha=0.05):\n",
    "    \n",
    "    #Separar por target e verificar se segue uma distribuição normal\n",
    "    normal_features_target = {}\n",
    "    non_normal_features_target = {}\n",
    "    for f in features:\n",
    "        for cls in [0, 1]:  # 1 = Legítimo, 0 = Phishing\n",
    "            class_data = X[y == cls][f]\n",
    "            class_data = (class_data - class_data.mean()) / class_data.std()  # Normalização Z-score\n",
    "            \n",
    "            ks_stat, p_value = kstest(class_data, 'norm')\n",
    "            #print(f\"Feature: {f}, Classe: {cls}, KS Statistic: {ks_stat}, p-value: {p_value}\")\n",
    "            if p_value > alpha:\n",
    "                normal_features_target[f] = cls\n",
    "            else:\n",
    "                non_normal_features_target[f] = cls\n",
    "                     \n",
    "            \n",
    "    #Sem separar por target\n",
    "    ks_statistic = []\n",
    "    p_value = []\n",
    "    \n",
    "    normal_features = []\n",
    "    non_normal_features = []\n",
    "    \n",
    "    for feature in features:\n",
    "        ks, p= kstest(X[feature], 'norm')\n",
    "        ks_statistic.append(ks)\n",
    "        p_value.append(p)\n",
    "        if p > alpha:\n",
    "            normal_features.append(feature)\n",
    "        else:\n",
    "            non_normal_features.append(feature)\n",
    "            \n",
    "    print(features)\n",
    "    print(ks_statistic)\n",
    "    print(p_value)\n",
    "    \n",
    "    return normal_features, non_normal_features\n",
    "    \n",
    "    \n",
    "# Não sei se faz muito sentido ter um plot     \n",
    "\n",
    "\n",
    "# Teste de Kolmogorov-Smirnov detalhado com visualização\n",
    "def ks_test_with_plot(X, y, feature):\n",
    "    plt.figure(figsize=(12, 6))\n",
    "    \n",
    "    plt.subplot(1, 2, 1)\n",
    "    sns.histplot(X[feature], kde=True, stat=\"density\", linewidth=0, bins=30)\n",
    "    xmin, xmax = plt.xlim()\n",
    "    x = np.linspace(xmin, xmax, 100)\n",
    "    p = norm.pdf(x, X[feature].mean(), X[feature].std())\n",
    "    plt.plot(x, p, 'r', linewidth=2, label='Normal PDF')\n",
    "    plt.title(f\"Histograma para {feature} com PDF Teórica\")\n",
    "    plt.legend()\n",
    "    \n",
    "    plt.subplot(1, 2, 2)\n",
    "    sns.ecdfplot(X[feature], label='Empirical CDF')\n",
    "    plt.plot(x, norm.cdf(x, X[feature].mean(), X[feature].std()), 'r-', label='Theoretical CDF')\n",
    "    plt.title(f\"Empirical vs Theoretical CDF para {feature}\")\n",
    "    plt.legend()\n",
    "    \n",
    "    plt.show()\n",
    "    \n",
    "    # Executar KS-Test\n",
    "    ks_stat, p_value = kstest(X[feature], 'norm', args=(X[feature].mean(), X[feature].std()))\n",
    "    print(f\"Feature: {feature}, KS Statistic: {ks_stat}, p-value: {p_value}\")\n",
    "        \n",
    "        \n",
    "            \n",
    "            \n",
    "normal_features, non_normal_features = KS_Test(X, y, X.columns)\n",
    "# Nenhuma feature segue uma distribuição normal (p-value < 0.05)\n",
    "print(\"Features Normal Distribution : \", normal_features)\n",
    "print(\"Features Non Normal Distribution: \", non_normal_features)\n"
   ]
  },
  {
   "cell_type": "markdown",
   "metadata": {},
   "source": [
    "### Kruskal Wallis Test"
   ]
  },
  {
   "cell_type": "code",
   "execution_count": null,
   "metadata": {},
   "outputs": [],
   "source": [
    "\n",
    "def KW_test(data, features):\n",
    "    Hs = {}\n",
    "    \n",
    "    ix_legitimo = np.where(y == 1)[0]\n",
    "    ix_phishing = np.where(y == 0)[0]\n",
    "   \n",
    "    for i in range(X.shape[1]):\n",
    "        stat = kruskal(X.iloc[ix_legitimo, i], X.iloc[ix_phishing, i]) # iloc trabalha com pandas, flatten trabalha com numpy\n",
    "        Hs[features[i]] = stat  \n",
    " \n",
    "    Hs_sorted = sorted(Hs.items(), key=lambda x: x[1], reverse=True)\n",
    "    \n",
    "    return Hs_sorted\n",
    "\n",
    "\n",
    "\n",
    "Hs_sorted = KW_test(data, X.columns)\n",
    "print(Hs_sorted)\n",
    "    "
   ]
  },
  {
   "cell_type": "code",
   "execution_count": null,
   "metadata": {},
   "outputs": [],
   "source": [
    "def plot_features(X, y, top_features):\n",
    "    data = X.copy()\n",
    "    data['Class'] = y.map({0: 'Phishing', 1:'Legítimo'})\n",
    "    \n",
    "    color_discrete_map = {'Legítimo': 'lightskyblue', 'Phishing': 'hotpink'}\n",
    "    \n",
    "    for feature in top_features:\n",
    "        fig = px.violin(data, y=feature, x='Class', box=True, points=\"all\", \n",
    "                        title=f'Violin plot for {feature}', color='Class', \n",
    "                        color_discrete_map=color_discrete_map)\n",
    "        fig.show()\n",
    "        \n",
    "plot_features(X, y, [x[0] for x in Hs_sorted[:1]])"
   ]
  }
 ],
 "metadata": {
  "kernelspec": {
   "display_name": "base",
   "language": "python",
   "name": "python3"
  },
  "language_info": {
   "codemirror_mode": {
    "name": "ipython",
    "version": 3
   },
   "file_extension": ".py",
   "mimetype": "text/x-python",
   "name": "python",
   "nbconvert_exporter": "python",
   "pygments_lexer": "ipython3",
   "version": "3.12.3"
  }
 },
 "nbformat": 4,
 "nbformat_minor": 2
}
